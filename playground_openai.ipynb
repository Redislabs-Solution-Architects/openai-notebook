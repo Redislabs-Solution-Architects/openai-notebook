{
 "cells": [
  {
   "cell_type": "markdown",
   "id": "fa3ead2f",
   "metadata": {},
   "source": [
    "# Playground for Chatbot Example App"
   ]
  },
  {
   "cell_type": "markdown",
   "id": "187b63cf",
   "metadata": {},
   "source": [
    "## Python Imports"
   ]
  },
  {
   "cell_type": "code",
   "execution_count": 1,
   "id": "b2045e3a",
   "metadata": {},
   "outputs": [
    {
     "name": "stdout",
     "output_type": "stream",
     "text": [
      "Requirement already satisfied: openai==0.28 in /Users/george/anaconda3/envs/anaconda_py311/lib/python3.11/site-packages (0.28.0)\n",
      "Requirement already satisfied: requests>=2.20 in /Users/george/anaconda3/envs/anaconda_py311/lib/python3.11/site-packages (from openai==0.28) (2.31.0)\n",
      "Requirement already satisfied: tqdm in /Users/george/anaconda3/envs/anaconda_py311/lib/python3.11/site-packages (from openai==0.28) (4.65.0)\n",
      "Requirement already satisfied: aiohttp in /Users/george/anaconda3/envs/anaconda_py311/lib/python3.11/site-packages (from openai==0.28) (3.9.1)\n",
      "Requirement already satisfied: charset-normalizer<4,>=2 in /Users/george/anaconda3/envs/anaconda_py311/lib/python3.11/site-packages (from requests>=2.20->openai==0.28) (2.0.4)\n",
      "Requirement already satisfied: idna<4,>=2.5 in /Users/george/anaconda3/envs/anaconda_py311/lib/python3.11/site-packages (from requests>=2.20->openai==0.28) (3.4)\n",
      "Requirement already satisfied: urllib3<3,>=1.21.1 in /Users/george/anaconda3/envs/anaconda_py311/lib/python3.11/site-packages (from requests>=2.20->openai==0.28) (1.26.16)\n",
      "Requirement already satisfied: certifi>=2017.4.17 in /Users/george/anaconda3/envs/anaconda_py311/lib/python3.11/site-packages (from requests>=2.20->openai==0.28) (2023.7.22)\n",
      "Requirement already satisfied: attrs>=17.3.0 in /Users/george/anaconda3/envs/anaconda_py311/lib/python3.11/site-packages (from aiohttp->openai==0.28) (23.1.0)\n",
      "Requirement already satisfied: multidict<7.0,>=4.5 in /Users/george/anaconda3/envs/anaconda_py311/lib/python3.11/site-packages (from aiohttp->openai==0.28) (6.0.2)\n",
      "Requirement already satisfied: yarl<2.0,>=1.0 in /Users/george/anaconda3/envs/anaconda_py311/lib/python3.11/site-packages (from aiohttp->openai==0.28) (1.8.1)\n",
      "Requirement already satisfied: frozenlist>=1.1.1 in /Users/george/anaconda3/envs/anaconda_py311/lib/python3.11/site-packages (from aiohttp->openai==0.28) (1.3.3)\n",
      "Requirement already satisfied: aiosignal>=1.1.2 in /Users/george/anaconda3/envs/anaconda_py311/lib/python3.11/site-packages (from aiohttp->openai==0.28) (1.2.0)\n"
     ]
    }
   ],
   "source": [
    "!pip install openai==0.28\n",
    "import os\n",
    "import uuid\n",
    "\n",
    "from time import time\n",
    "\n",
    "from redisvl.llmcache.semantic import SemanticCache\n",
    "from redisvl.vectorize.text import OpenAITextVectorizer\n",
    "\n",
    "# we need those to fine tune vector dimension for openAI which is larger than default\n",
    "import redis as redisclient\n",
    "from redis.commands.search.field import VectorField\n",
    "from redisvl.index import SearchIndex\n",
    "\n",
    "from redisvl.vectorize.text import OpenAITextVectorizer\n",
    "import tiktoken #required for OpenAI\n",
    "\n",
    "from langchain.chat_models import ChatOpenAI\n",
    "from langchain.document_loaders import PyPDFLoader\n",
    "from langchain.memory import ConversationBufferMemory\n",
    "from langchain.memory.chat_message_histories import RedisChatMessageHistory\n",
    "from langchain.embeddings import OpenAIEmbeddings\n",
    "from langchain.callbacks.base import BaseCallbackHandler\n",
    "from langchain.vectorstores import Redis\n",
    "from langchain.text_splitter import RecursiveCharacterTextSplitter\n",
    "from langchain.agents.agent_toolkits import create_retriever_tool\n",
    "from langchain.agents import AgentType\n",
    "from langchain.agents import initialize_agent\n",
    "from dotenv import load_dotenv\n",
    "import gradio as gr"
   ]
  },
  {
   "cell_type": "markdown",
   "id": "f0643a94",
   "metadata": {},
   "source": [
    "## Apply Config"
   ]
  },
  {
   "cell_type": "code",
   "execution_count": 2,
   "id": "7fa10722",
   "metadata": {},
   "outputs": [],
   "source": [
    "load_dotenv()\n",
    "\n",
    "class AppConfig:\n",
    "    DOCS_FOLDER=os.environ[\"DOCS_FOLDER\"]\n",
    "    REDIS_URL=os.environ[\"LOCAL_REDIS_URL\"]\n",
    "    OPENAI_API_KEY=os.environ[\"OPENAI_API_KEY\"]\n",
    "    OPENAI_EMBEDDING_MODEL=os.environ[\"OPENAI_EMBEDDING_MODEL\"]\n",
    "    OPENAI_CHAT_MODEL=os.environ[\"OPENAI_CHAT_MODEL\"]\n",
    "    CHUNK_SIZE=int(os.getenv(\"CHUNK_SIZE\", 500))\n",
    "    CHUNK_OVERLAP=int(os.getenv(\"CHUNK_OVERLAP\", 10))\n",
    "    PAGE_TITLE=os.getenv(\"PAGE_TITLE\", \"📃 Chat Your PDF\")\n",
    "    PAGE_ICON=os.getenv(\"PAGE_ICON\", \"📃\")\n",
    "    RETRIEVE_TOP_K=int(os.getenv(\"RETRIEVE_TOP_K\", 5))\n",
    "    LLMCACHE_THRESHOLD=float(os.getenv(\"LLMCACHE_THRESHOLD\", 0.95))\n",
    "    \n",
    "config = AppConfig()"
   ]
  },
  {
   "cell_type": "markdown",
   "id": "acac9045",
   "metadata": {},
   "source": [
    "## Extract Text from Documents and View Results"
   ]
  },
  {
   "cell_type": "code",
   "execution_count": 4,
   "id": "427aaaf0",
   "metadata": {},
   "outputs": [
    {
     "name": "stdout",
     "output_type": "stream",
     "text": [
      "The BMW i4 - Brochure.pdf\n",
      "Running on local URL:  http://127.0.0.1:7861\n",
      "\n",
      "To create a public link, set `share=True` in `launch()`.\n"
     ]
    },
    {
     "data": {
      "text/html": [
       "<div><iframe src=\"http://127.0.0.1:7861/\" width=\"100%\" height=\"500\" allow=\"autoplay; camera; microphone; clipboard-read; clipboard-write;\" frameborder=\"0\" allowfullscreen></iframe></div>"
      ],
      "text/plain": [
       "<IPython.core.display.HTML object>"
      ]
     },
     "metadata": {},
     "output_type": "display_data"
    },
    {
     "name": "stdout",
     "output_type": "stream",
     "text": [
      "page_content='MODELSHIGHLIGHTS  \\nJOURNEY EQUIPMENTTECHNICAL VALUES AND SERVICES\\nEquipment\\nExterior colour world Interior colour worldM Aerodynamic KitWheels and tyresOriginal BMW AccessoriesT echnical valuesBMW Services Highlights  \\n• Exterior and interior design • Driving dynamics • Charging • Connectivity and infotainment • Assistance systems \\nCONTENTSBMW i4 eDrive40: \\n19\" aerodynamic wheels 855 bicolour with mixed tyres, exterior colour in Mineral White metallic, sport seats in \\'Vernasca\\' leather Oyster decorative stitching| Black, interior trim finisher in fine-wood trim Oak grain open-pored with Pearl Chrome accent strip.THE FIRST -EVER FULL Y-ELECTRIC BMW i4\\nDISCOVER MORE.\\nScan the code to get more information \\nand more driving pleasure on the first-ever fully-electric  BMW i4.\\n' metadata={'source': 'pdfs/The BMW i4 - Brochure.pdf', 'page': 1}\n",
      "<class 'langchain_core.documents.base.Document'>\n",
      "<class 'dict'>\n"
     ]
    }
   ],
   "source": [
    "path = config.DOCS_FOLDER\n",
    "docs = []\n",
    "for file in os.listdir(path):\n",
    "    print(file, flush=True)\n",
    "    loader = PyPDFLoader(os.path.join(path, file))\n",
    "    docs.extend(loader.load())\n",
    "    \n",
    "#Show extracted pages\n",
    "def pagenumber_change(n):\n",
    "    page = docs[int(n)]\n",
    "    return page.page_content,page.metadata\n",
    "\n",
    "with gr.Blocks() as demopage:\n",
    "    gr.Markdown(\"### Pages Content\")\n",
    "    page = gr.TextArea(label=\"Page Content\",max_lines=10,value=docs[0].page_content)\n",
    "    meta_data = gr.Textbox(label=\"MetaData\",value=docs[0].metadata)\n",
    "    page_number = gr.Slider(label=\"Page Number\",  minimum=0, maximum= len(docs)-1, value=0,step=1, scale=1)\n",
    "    page_number.release(pagenumber_change, inputs=[page_number], outputs=[page,meta_data])\n",
    "        \n",
    "demopage.launch(share=False)\n",
    "\n",
    "print(docs[1])\n",
    "print(type(docs[1]))\n",
    "print(type(docs[1].metadata))"
   ]
  },
  {
   "cell_type": "markdown",
   "id": "4bd71a8c",
   "metadata": {},
   "source": [
    "## Split Documents and View Results"
   ]
  },
  {
   "cell_type": "code",
   "execution_count": 5,
   "id": "74aa89b3",
   "metadata": {
    "scrolled": true
   },
   "outputs": [
    {
     "name": "stdout",
     "output_type": "stream",
     "text": [
      "Running on local URL:  http://127.0.0.1:7862\n",
      "\n",
      "To create a public link, set `share=True` in `launch()`.\n"
     ]
    },
    {
     "data": {
      "text/html": [
       "<div><iframe src=\"http://127.0.0.1:7862/\" width=\"100%\" height=\"500\" allow=\"autoplay; camera; microphone; clipboard-read; clipboard-write;\" frameborder=\"0\" allowfullscreen></iframe></div>"
      ],
      "text/plain": [
       "<IPython.core.display.HTML object>"
      ]
     },
     "metadata": {},
     "output_type": "display_data"
    },
    {
     "data": {
      "text/plain": []
     },
     "execution_count": 5,
     "metadata": {},
     "output_type": "execute_result"
    }
   ],
   "source": [
    "text_splitter = RecursiveCharacterTextSplitter(\n",
    "    chunk_size=config.CHUNK_SIZE, chunk_overlap=config.CHUNK_OVERLAP\n",
    ")\n",
    "splits = text_splitter.split_documents(docs)\n",
    "\n",
    "#Show splits with overlaps\n",
    "def docnumber_change(n):\n",
    "    doc = splits[int(n)]\n",
    "    return doc.page_content,doc.metadata\n",
    "\n",
    "with gr.Blocks() as demodoc:\n",
    "    gr.Markdown(\"### View Split Documents\")\n",
    "    doc_content = gr.TextArea(label=\"Document Content\",max_lines=10,value=splits[0].page_content)\n",
    "    doc_meta_data = gr.Textbox(label=\"MetaData\",value=splits[0].metadata)\n",
    "    doc_number = gr.Slider(label=\"Document Number\",  minimum=0, maximum= len(splits)-1, value=0,step=1, scale=1)\n",
    "    doc_number.release(docnumber_change, inputs=[doc_number], outputs=[doc_content,doc_meta_data])\n",
    "        \n",
    "demodoc.launch(share=False)"
   ]
  },
  {
   "cell_type": "markdown",
   "id": "6ffbb21d",
   "metadata": {},
   "source": [
    "## Create Embeddings and Store in VectorDB"
   ]
  },
  {
   "cell_type": "code",
   "execution_count": 6,
   "id": "f17bced4",
   "metadata": {},
   "outputs": [
    {
     "name": "stdout",
     "output_type": "stream",
     "text": [
      "Found existing embeddings in doc:chatbot:path for pdfs/\n",
      "{'text': [{'name': 'source', 'weight': 1.0, 'no_stem': False, 'withsuffixtrie': False, 'no_index': False, 'sortable': False}, {'name': 'content', 'weight': 1.0, 'no_stem': False, 'withsuffixtrie': False, 'no_index': False, 'sortable': False}], 'numeric': [{'name': 'page', 'no_index': False, 'sortable': False}], 'vector': [{'name': 'content_vector', 'dims': 1536, 'algorithm': 'FLAT', 'datatype': 'FLOAT32', 'distance_metric': 'COSINE', 'initial_cap': 20000, 'block_size': 1000}]}\n"
     ]
    },
    {
     "name": "stderr",
     "output_type": "stream",
     "text": [
      "/Users/george/anaconda3/envs/anaconda_py311/lib/python3.11/site-packages/langchain_core/_api/deprecation.py:115: LangChainDeprecationWarning: The class `OpenAIEmbeddings` was deprecated in LangChain 0.1.0 and will be removed in 0.2.0. Use langchain_openai.OpenAIEmbeddings instead.\n",
      "  warn_deprecated(\n"
     ]
    }
   ],
   "source": [
    "def chunker(seq, size):\n",
    "    return (seq[pos:pos + size] for pos in range(0, len(seq), size))\n",
    "\n",
    "embeddings = OpenAIEmbeddings(\n",
    "    openai_api_key=config.OPENAI_API_KEY,\n",
    "    model=config.OPENAI_EMBEDDING_MODEL\n",
    ")\n",
    "\n",
    "\n",
    "# Check if not already vectorized (currently at path level, not at path/file level)\n",
    "embeddingsDone = redisclient.Redis.from_url(config.REDIS_URL)\n",
    "embeddingsDoneForDoc = embeddingsDone.sismember(\"doc:chatbot:path\", path)\n",
    "if not embeddingsDoneForDoc:\n",
    "    # Azure OpenAI limit inputs at 16 for now\n",
    "    vectordb = None\n",
    "    for splitN in chunker(splits, 16):\n",
    "        if vectordb == None:\n",
    "            vectordb = Redis.from_documents(\n",
    "                splitN, embeddings, redis_url=config.REDIS_URL, index_name=\"chatbot\"\n",
    "            )\n",
    "        else:\n",
    "            #foo = True\n",
    "            vectordb.add_documents(splitN)\n",
    "    embeddingsDone.sadd(\"doc:chatbot:path\", path)\n",
    "else:\n",
    "    print(\"Found existing embeddings in doc:chatbot:path for \"+ path, flush=True)\n",
    "    schema = {\n",
    "        'text': [\n",
    "            {'name': 'source', \n",
    "             'weight': 1, \n",
    "             'no_stem': False, \n",
    "             'withsuffixtrie': False, \n",
    "             'no_index': False, \n",
    "             'sortable': False}, \n",
    "            {'name': 'content', \n",
    "             'weight': 1, \n",
    "             'no_stem': False, \n",
    "             'withsuffixtrie': False, \n",
    "             'no_index': False, \n",
    "             'sortable': False}\n",
    "        ], \n",
    "        'numeric': [\n",
    "            {'name': 'page', \n",
    "             'no_index': False, \n",
    "             'sortable': False}\n",
    "        ], \n",
    "        'vector': [\n",
    "            {'name': 'content_vector', \n",
    "             'dims': 1536, 'algorithm': 'FLAT', \n",
    "             'datatype': 'FLOAT32', \n",
    "             'distance_metric': 'COSINE', \n",
    "             'initial_cap': 20000, \n",
    "             'block_size': 1000}\n",
    "        ]\n",
    "    }\n",
    "    vectordb = Redis.from_existing_index(\n",
    "            embeddings,\n",
    "            index_name=\"chatbot\",\n",
    "            redis_url=config.REDIS_URL,\n",
    "            schema = schema\n",
    "    )\n",
    "\n",
    "print(vectordb.schema)"
   ]
  },
  {
   "cell_type": "markdown",
   "id": "87725e51",
   "metadata": {},
   "source": [
    "## Define Retriever"
   ]
  },
  {
   "cell_type": "code",
   "execution_count": 7,
   "id": "c28b14da",
   "metadata": {},
   "outputs": [
    {
     "name": "stdout",
     "output_type": "stream",
     "text": [
      "name='search_bmw_i4' description='Searches and returns snippets from the BMW i4 brochure.' args_schema=<class 'langchain.tools.retriever.RetrieverInput'> func=<bound method BaseRetriever.get_relevant_documents of RedisVectorStoreRetriever(tags=['Redis', 'OpenAIEmbeddings'], vectorstore=<langchain_community.vectorstores.redis.base.Redis object at 0x2adbd0450>, search_kwargs={'k': 5})> coroutine=<bound method BaseRetriever.aget_relevant_documents of RedisVectorStoreRetriever(tags=['Redis', 'OpenAIEmbeddings'], vectorstore=<langchain_community.vectorstores.redis.base.Redis object at 0x2adbd0450>, search_kwargs={'k': 5})>\n"
     ]
    }
   ],
   "source": [
    "retriever = vectordb.as_retriever(search_kwargs={\"k\": config.RETRIEVE_TOP_K})\n",
    "tool = create_retriever_tool(retriever, \"search_bmw_i4\",\n",
    "       \"Searches and returns snippets from the BMW i4 brochure.\")\n",
    "tools = list()\n",
    "tools.append(tool)\n",
    "#Show the returned tool\n",
    "print(tool)"
   ]
  },
  {
   "cell_type": "markdown",
   "id": "c9d0e797",
   "metadata": {},
   "source": [
    "## Set up the Redis LLMCache Built with OpenAI Text Embeddings"
   ]
  },
  {
   "cell_type": "code",
   "execution_count": 8,
   "id": "36bafe7d",
   "metadata": {},
   "outputs": [
    {
     "name": "stdout",
     "output_type": "stream",
     "text": [
      "{'index_name': 'cache', 'index_options': [], 'index_definition': ['key_type', 'HASH', 'prefixes', ['llmcache'], 'default_score', '1'], 'attributes': [['identifier', 'prompt_vector', 'attribute', 'prompt_vector', 'type', 'VECTOR']], 'num_docs': '0', 'max_doc_id': '0', 'num_terms': '0', 'num_records': '0', 'inverted_sz_mb': '0', 'vector_index_sz_mb': '0.15383148193359375', 'total_inverted_index_blocks': '2836', 'offset_vectors_sz_mb': '0', 'doc_table_size_mb': '0', 'sortable_values_size_mb': '0', 'key_table_size_mb': '0', 'geoshapes_sz_mb': '0', 'records_per_doc_avg': 'nan', 'bytes_per_record_avg': 'nan', 'offsets_per_term_avg': 'nan', 'offset_bits_per_record_avg': 'nan', 'hash_indexing_failures': '0', 'total_indexing_time': '0', 'indexing': '1', 'percent_indexed': '0.575', 'number_of_uses': 1, 'cleaning': 0, 'gc_stats': ['bytes_collected', '0', 'total_ms_run', '0', 'total_cycles', '0', 'average_cycle_time_ms', 'nan', 'last_run_time_ms', '0', 'gc_numeric_trees_missed', '0', 'gc_blocks_denied', '0'], 'cursor_stats': ['global_idle', 0, 'global_total', 0, 'index_capacity', 128, 'index_total', 0], 'dialect_stats': ['dialect_1', 0, 'dialect_2', 0, 'dialect_3', 0, 'dialect_4', 0]}\n"
     ]
    }
   ],
   "source": [
    "llmcache_embeddings = OpenAITextVectorizer(\n",
    "    api_config={'api_key': config.OPENAI_API_KEY},\n",
    "    model=config.OPENAI_EMBEDDING_MODEL\n",
    ")\n",
    "\n",
    "schema = {\n",
    "    \"index\": {\n",
    "        \"name\": \"cache\",\n",
    "        \"prefix\": \"llmcache\",\n",
    "    },\n",
    "    \"fields\": {\n",
    "        \"vector\": [{\n",
    "                \"name\": \"prompt_vector\",\n",
    "                \"dims\": 1536,\n",
    "                \"distance_metric\": \"cosine\",\n",
    "                \"algorithm\": \"flat\",\n",
    "                \"datatype\": \"float32\"}\n",
    "        ]\n",
    "    },\n",
    "}\n",
    "\n",
    "cache = SearchIndex.from_dict(schema)\n",
    "cache.connect(config.REDIS_URL)\n",
    "cache.create(overwrite=True)\n",
    "\n",
    "llmcache = SemanticCache(\n",
    "    redis_url=config.REDIS_URL,\n",
    "    threshold=config.LLMCACHE_THRESHOLD, # semantic similarity threshold\n",
    "    vectorizer=llmcache_embeddings,\n",
    "    index=cache\n",
    ")\n",
    "print(llmcache.index.info())"
   ]
  },
  {
   "cell_type": "markdown",
   "id": "55befa25",
   "metadata": {},
   "source": [
    "## Configure the Conversational Chat Agent that Can Use the Redis Vector DB for RAG"
   ]
  },
  {
   "cell_type": "code",
   "execution_count": 9,
   "id": "8899a100",
   "metadata": {},
   "outputs": [
    {
     "name": "stderr",
     "output_type": "stream",
     "text": [
      "/Users/george/anaconda3/envs/anaconda_py311/lib/python3.11/site-packages/langchain_core/_api/deprecation.py:115: LangChainDeprecationWarning: The class `ChatOpenAI` was deprecated in LangChain 0.1.0 and will be removed in 0.2.0. Use langchain_openai.ChatOpenAI instead.\n",
      "  warn_deprecated(\n",
      "/Users/george/anaconda3/envs/anaconda_py311/lib/python3.11/site-packages/langchain_core/_api/deprecation.py:115: LangChainDeprecationWarning: The function `initialize_agent` was deprecated in LangChain 0.1.0 and will be removed in 0.2.0. Use Use new agent constructor methods like create_react_agent, create_json_agent, create_structured_chat_agent, etc. instead.\n",
      "  warn_deprecated(\n"
     ]
    }
   ],
   "source": [
    "# Setup Redis memory for conversation history\n",
    "msgs = RedisChatMessageHistory(\n",
    "    session_id=\"my_session\", url=config.REDIS_URL\n",
    ")\n",
    "\n",
    "memory = ConversationBufferMemory(\n",
    "    memory_key=\"chat_history\", chat_memory=msgs, return_messages=True\n",
    ")\n",
    "chatLLM = ChatOpenAI(\n",
    "    model_name=config.OPENAI_CHAT_MODEL,\n",
    "    streaming=True\n",
    ")\n",
    "PREFIX = \"\"\"\"You are a friendly AI assistant that can provide information on the BMW i4 based on the provided PDF manual. Users can ask questions of your manual! Only use information from the prompt. You should not make anything up.\"\"\"\n",
    "\n",
    "FORMAT_INSTRUCTIONS = \"\"\"You have access to the following tools:\n",
    "\n",
    "{tools}\n",
    "\n",
    "Use the following format:\n",
    "\n",
    "'''\n",
    "Question: the input question you must answer\n",
    "Thought: you should always think about what to do\n",
    "Action: the action to take, should be one of [{tool_names}]\n",
    "Action Input: the input to the action\n",
    "Observation: the result of the action\n",
    "... (this Thought/Action/Action Input/Observation can repeat N times)\n",
    "Thought: I now know the final answer\n",
    "Final Answer: the final answer to the original input question\n",
    "'''\n",
    "\n",
    "When you have gathered all the information required, respond to the user in a friendly manner.\n",
    "\"\"\"\n",
    "\n",
    "SUFFIX = \"\"\"\n",
    "\n",
    "Begin! Remember to give detailed, informative answers\n",
    "\n",
    "Previous conversation history:\n",
    "{chat_history}\n",
    "\n",
    "New question: {input}\n",
    "{agent_scratchpad}\n",
    "\"\"\"\n",
    "agent = initialize_agent(\n",
    "    tools,\n",
    "    chatLLM,\n",
    "    agent=AgentType.CHAT_CONVERSATIONAL_REACT_DESCRIPTION,\n",
    "    verbose=False,\n",
    "    memory=memory,\n",
    "    agent_kwargs={\n",
    "        'prefix': PREFIX,\n",
    "        'format_instructions': FORMAT_INSTRUCTIONS,\n",
    "        'suffix': SUFFIX\n",
    "    }\n",
    ")"
   ]
  },
  {
   "cell_type": "markdown",
   "id": "e2da084a",
   "metadata": {},
   "source": [
    "## Generate a Response to the User's Question after Checking the Cache (if Enabled)."
   ]
  },
  {
   "cell_type": "code",
   "execution_count": 10,
   "id": "1b178263",
   "metadata": {},
   "outputs": [],
   "source": [
    "from langchain.globals import set_debug\n",
    "set_debug(True)\n",
    "\n",
    "def generate_response(\n",
    "    use_cache: bool,\n",
    "    llmcache: SemanticCache,\n",
    "    user_query: str,\n",
    "    agent\n",
    ") -> str:\n",
    "    t0 = time()\n",
    "    if use_cache:\n",
    "        if response := llmcache.check(user_query):\n",
    "            print(\"Cache Response Time (secs)\", time()-t0, flush=True)\n",
    "            return response[0]\n",
    " \n",
    "    retrieval_handler = BaseCallbackHandler()\n",
    "    response = agent.run(input=user_query, callbacks=[retrieval_handler])\n",
    "    print(\"Full Response Time (secs)\", time()-t0, flush=True)\n",
    "    if use_cache:\n",
    "        llmcache.store(user_query, response)\n",
    "    return response"
   ]
  },
  {
   "cell_type": "markdown",
   "id": "6d15051c",
   "metadata": {},
   "source": [
    "## Use the Chatbot"
   ]
  },
  {
   "cell_type": "code",
   "execution_count": 11,
   "id": "08efc037",
   "metadata": {},
   "outputs": [
    {
     "name": "stdout",
     "output_type": "stream",
     "text": [
      "Running on local URL:  http://127.0.0.1:7863\n",
      "\n",
      "To create a public link, set `share=True` in `launch()`.\n"
     ]
    },
    {
     "data": {
      "text/html": [
       "<div><iframe src=\"http://127.0.0.1:7863/\" width=\"100%\" height=\"500\" allow=\"autoplay; camera; microphone; clipboard-read; clipboard-write;\" frameborder=\"0\" allowfullscreen></iframe></div>"
      ],
      "text/plain": [
       "<IPython.core.display.HTML object>"
      ]
     },
     "metadata": {},
     "output_type": "display_data"
    },
    {
     "data": {
      "text/plain": []
     },
     "execution_count": 11,
     "metadata": {},
     "output_type": "execute_result"
    },
    {
     "name": "stderr",
     "output_type": "stream",
     "text": [
      "/Users/george/anaconda3/envs/anaconda_py311/lib/python3.11/site-packages/langchain_core/_api/deprecation.py:115: LangChainDeprecationWarning: The function `run` was deprecated in LangChain 0.1.0 and will be removed in 0.2.0. Use invoke instead.\n",
      "  warn_deprecated(\n"
     ]
    },
    {
     "name": "stdout",
     "output_type": "stream",
     "text": [
      "\u001b[32;1m\u001b[1;3m[chain/start]\u001b[0m \u001b[1m[1:chain:AgentExecutor] Entering Chain run with input:\n",
      "\u001b[0m[inputs]\n",
      "\u001b[32;1m\u001b[1;3m[chain/start]\u001b[0m \u001b[1m[1:chain:AgentExecutor > 2:chain:LLMChain] Entering Chain run with input:\n",
      "\u001b[0m[inputs]\n",
      "\u001b[32;1m\u001b[1;3m[llm/start]\u001b[0m \u001b[1m[1:chain:AgentExecutor > 2:chain:LLMChain > 3:llm:ChatOpenAI] Entering LLM run with input:\n",
      "\u001b[0m{\n",
      "  \"prompts\": [\n",
      "    \"System: Assistant is a large language model trained by OpenAI.\\n\\nAssistant is designed to be able to assist with a wide range of tasks, from answering simple questions to providing in-depth explanations and discussions on a wide range of topics. As a language model, Assistant is able to generate human-like text based on the input it receives, allowing it to engage in natural-sounding conversations and provide responses that are coherent and relevant to the topic at hand.\\n\\nAssistant is constantly learning and improving, and its capabilities are constantly evolving. It is able to process and understand large amounts of text, and can use this knowledge to provide accurate and informative responses to a wide range of questions. Additionally, Assistant is able to generate its own text based on the input it receives, allowing it to engage in discussions and provide explanations and descriptions on a wide range of topics.\\n\\nOverall, Assistant is a powerful system that can help with a wide range of tasks and provide valuable insights and information on a wide range of topics. Whether you need help with a specific question or just want to have a conversation about a particular topic, Assistant is here to assist.\\nHuman: How much does it cost?\\nAI: I'm sorry, but the documents provided do not specify the cost of the BMW i4. For detailed information on availability, terms, and costs, it is recommended to contact your nearest BMW Authorized Dealership.\\nHuman: TOOLS\\n------\\nAssistant can ask the user to use tools to look up information that may be helpful in answering the users original question. The tools the human can use are:\\n\\n> search_bmw_i4: Searches and returns snippets from the BMW i4 brochure.\\n\\nRESPONSE FORMAT INSTRUCTIONS\\n----------------------------\\n\\nWhen responding to me, please output a response in one of two formats:\\n\\n**Option 1:**\\nUse this if you want the human to use a tool.\\nMarkdown code snippet formatted in the following schema:\\n\\n```json\\n{\\n    \\\"action\\\": string, \\\\\\\\ The action to take. Must be one of search_bmw_i4\\n    \\\"action_input\\\": string \\\\\\\\ The input to the action\\n}\\n```\\n\\n**Option #2:**\\nUse this if you want to respond directly to the human. Markdown code snippet formatted in the following schema:\\n\\n```json\\n{\\n    \\\"action\\\": \\\"Final Answer\\\",\\n    \\\"action_input\\\": string \\\\\\\\ You should put what you want to return to use here\\n}\\n```\\n\\nUSER'S INPUT\\n--------------------\\nHere is the user's input (remember to respond with a markdown code snippet of a json blob with a single action, and NOTHING else):\\n\\nHow fast is it?\"\n",
      "  ]\n",
      "}\n",
      "\u001b[36;1m\u001b[1;3m[llm/end]\u001b[0m \u001b[1m[1:chain:AgentExecutor > 2:chain:LLMChain > 3:llm:ChatOpenAI] [2.23s] Exiting LLM run with output:\n",
      "\u001b[0m{\n",
      "  \"generations\": [\n",
      "    [\n",
      "      {\n",
      "        \"text\": \"```json\\n{\\n    \\\"action\\\": \\\"search_bmw_i4\\\",\\n    \\\"action_input\\\": \\\"BMW i4 speed\\\"\\n}\\n```\",\n",
      "        \"generation_info\": {\n",
      "          \"finish_reason\": \"stop\"\n",
      "        },\n",
      "        \"type\": \"ChatGeneration\",\n",
      "        \"message\": {\n",
      "          \"lc\": 1,\n",
      "          \"type\": \"constructor\",\n",
      "          \"id\": [\n",
      "            \"langchain\",\n",
      "            \"schema\",\n",
      "            \"messages\",\n",
      "            \"AIMessage\"\n",
      "          ],\n",
      "          \"kwargs\": {\n",
      "            \"content\": \"```json\\n{\\n    \\\"action\\\": \\\"search_bmw_i4\\\",\\n    \\\"action_input\\\": \\\"BMW i4 speed\\\"\\n}\\n```\",\n",
      "            \"additional_kwargs\": {},\n",
      "            \"example\": false\n",
      "          }\n",
      "        }\n",
      "      }\n",
      "    ]\n",
      "  ],\n",
      "  \"llm_output\": null,\n",
      "  \"run\": null\n",
      "}\n",
      "\u001b[36;1m\u001b[1;3m[chain/end]\u001b[0m \u001b[1m[1:chain:AgentExecutor > 2:chain:LLMChain] [2.23s] Exiting Chain run with output:\n",
      "\u001b[0m{\n",
      "  \"text\": \"```json\\n{\\n    \\\"action\\\": \\\"search_bmw_i4\\\",\\n    \\\"action_input\\\": \\\"BMW i4 speed\\\"\\n}\\n```\"\n",
      "}\n",
      "\u001b[32;1m\u001b[1;3m[tool/start]\u001b[0m \u001b[1m[1:chain:AgentExecutor > 4:tool:search_bmw_i4] Entering Tool run with input:\n",
      "\u001b[0m\"BMW i4 speed\"\n",
      "\u001b[36;1m\u001b[1;3m[tool/end]\u001b[0m \u001b[1m[1:chain:AgentExecutor > 4:tool:search_bmw_i4] [1.64s] Exiting Tool run with output:\n",
      "\u001b[0m\"[Document(page_content='TECHNICAL VALUES.\\nBMW i4 i4 eDrive40\\nLuggage capacity l 470–1290\\nOutput and torque\\n▸ System output kW (hp) 250 (340)\\n▸ System torque Nm 430\\nLithium-ion high-voltage battery\\nGross  battery capacity kWh 83.9\\nChar\\nging time (AC 0–100 %)2h 8.25\\nCharging time (DC 10–80%)2min 31\\nPower transmissionT ype of drive – Rear-wheel\\nPerformanceT op speed km/h 190\\nAcceleration 0–100 km/h (xDrive) s 5.7\\nConsumption and range\\n3, 5\\n▸ Power consumption, combined4kWh/100 km 19.1–16.1\\n▸ Electric range km Upto 590 km\\nWheels/tyres\\nStandard wheels _Front: 225/55 R17  \\n101 Y XL\\nRear: 225/55 R17  \\n101 Y XLTECHNICAL VALUES.\\nThe dimensions in the technical drawing are in millimetres and may vary depending on the model and optional equipment.1630\\n20731601\\n1852\\n1448\\n1015944\\n862 2856 1065\\n47831470\\n1445\\n1   The figures quoted are based on a driver weight of 75 kg. Unladen weight applies to vehicles with standard equipment. Optional equipment may affect the weight of the vehicle, the \\npayload and the top speed if the equipment has an impact on the vehicle’s aerodynamics.\\n2 Dependent on the local electricity infrastructure. AC charging time refers to a charging power of 11 kW; DC charging time refers to a charging power of 200 kW.\\n3  Official data for power consumption and electric range was determined in accordance with the prescribed measuring procedure and corresponds to European Regulation (EU) 715/2007 in the applicable version. For ranges, data determined as per WL TP takes into account any optional equipment (available on the German market in this case). For vehicles that have been newly type approved since 1 January 2021, only the official data according to WL TP exists. For more information about NEDC and WL TP measuring procedures visit www.bmw.com/wltp\\n4 The combined power consumption depends on the selected wheel and tyre sizes\\n5  As of 1 September 2017, the type approval for certain new vehicles is granted according to the Worldwide harmonised Light vehicles T est Procedure (WL TP), a new, more realistic test procedure to measure the fuel consumption and carbon dioxide emissions. As of 1 September 2018, the WL TP replaced the New European Driving Cycle (NEDC), the previous test procedure. As a result of the more realistic test conditions, the fuel consumption and CO2 emission values measured as per WL TP are, in many cases, higher than the values measured according to the NEDC.\\n6 Range depends on various factors, in particular: individual driving style, route characteristics, outside temperature, heating/air conditioning, pre-conditioning.', metadata={'id': 'doc:chatbot:8566a988f04941a79ac0608cb8dc559c', 'source': 'pdfs/The BMW i4 - Brochure.pdf', 'page': '24'}), Document(page_content='■ The combination of the rear wheel drive and the BMW eDrive engine give the  \\nfirst-ever fully-electric BMW i4 an outstanding sporty feel. Thanks to its rear axle air suspension, it also ensures maximum comfort, so\\xa0that\\xa0even longer trips become a pleasure.\\n■ The BMW i4 confidently sets new standards, even off \\nthe racing track – and thanks to its particularly short charging times, a roomy luggage compartment and the comfortable space it offers for four passengers, it is the ideal partner for any daily routine.Thanks to its unique combination of powerful lithium-ion high-voltage battery and specific suspension kinematics, the new BMW i4 will help you experience driving pleasure\\xa0as you’ve never seen it before. Excitingly dynamic, comfortable and powerful in\\xa0equal measure, the first-ever fully-electric BMW i4 exceeds all expectations – every day, every trip.\\xa0SHEER DRIVING PLEASURE: UNLIMITED.\\nThe availability of some equipment, functions, and digital services depends on engine \\nvariants or additional optional equipment. The offer structure as well as market and production availability may vary. For detailed information on availability, terms and costs, \\nplease contact your nearest BMW Authorised Dealership.', metadata={'id': 'doc:chatbot:2be7e0115c6e452fb4f843d3827cf765', 'source': 'pdfs/The BMW i4 - Brochure.pdf', 'page': '10'}), Document(page_content='SPORT\\nPure emotions that electrify: Dynamic and expressive, the  \\nfirst-ever fully-electric BMW i4 shows what it means to combine its sporty character and a next-generation electric drive. At the same time, it captivates with its clear surface language and precise, modern appearance, even at first glance.MODEL VARIANTS AT A GLANCE.\\n■ The black Sport leather steering \\nwheel with four spokes features a\\xa0Pearl Chrome decorative trim. A\\xa0thick rim and contoured thumb rests provide an exceptionally pleasant, high-grip feel.■ The Sport seats for driver and \\nfront passenger provide optimum lateral support with their raised side bolsters and manually adjustable thigh support. In addition, the seat’s fore-and-aft position and height can\\xa0be adjusted manually.HIGHLIGHT EXTERIOR EQUIPMENT FEATURES:\\n ■LED headlights\\n ■Rear lights with LED technology\\n ■Recuperation system\\nHIGHLIGHT INTERIOR EQUIPMENT FEATURES:\\n ■BMW Live Cockpit Plus\\n ■Sport leather steering wheel\\n ■Automatic air conditioning with 3-zone control\\n ■Harman Kardons Surround Sound System\\n ■Steptronic transmission\\n ■Sport seats for driver and front passenger\\n ■Perforated sensatec upholstery\\n ■Fine wood trim oak grain open pore\\n ■Floor mats in velour\\n ■Instrument panel in Sensatec\\nThe availability of some equipment, functions, and digital services depends on engine \\nvariants or additional optional equipment. The offer structure as well as market and \\nproduction availability may vary. For detailed information on availability, terms and costs, \\nplease contact your nearest BMW Authorised Dealership.', metadata={'id': 'doc:chatbot:3e70be5c93594c7384125df0b99cf09e', 'source': 'pdfs/The BMW i4 - Brochure.pdf', 'page': '15'}), Document(page_content='MODELSHIGHLIGHTS  \\nJOURNEY EQUIPMENTTECHNICAL VALUES AND SERVICES\\nEquipment\\nExterior colour world Interior colour worldM Aerodynamic KitWheels and tyresOriginal BMW AccessoriesT echnical valuesBMW Services Highlights  \\n• Exterior and interior design • Driving dynamics • Charging • Connectivity and infotainment • Assistance systems \\nCONTENTSBMW i4 eDrive40: \\n19\" aerodynamic wheels 855 bicolour with mixed tyres, exterior colour in Mineral White metallic, sport seats in \\'Vernasca\\' leather Oyster decorative stitching| Black, interior trim finisher in fine-wood trim Oak grain open-pored with Pearl Chrome accent strip.THE FIRST -EVER FULL Y-ELECTRIC BMW i4\\nDISCOVER MORE.\\nScan the code to get more information \\nand more driving pleasure on the first-ever fully-electric  BMW i4.', metadata={'id': 'doc:chatbot:bb1ea93dbf38475e9cef5b2589e1043b', 'source': 'pdfs/The BMW i4 - Brochure.pdf', 'page': '1'}), Document(page_content='■ The best seats in the front row: the \\ncomfortable embrace of the sport seats in\\xa0perforated sensatec upholstery is given an\\xa0especially elegant boost by their high-quality stitching.\\n■ T otal comfort, even in the back seats: up \\nto\\xa0three passengers can enjoy an exclusive travel experience with generous head and\\xa0leg room amid an inviting, brightly-lit atmosphere in the new BMW i4.\\n■ The new BMW i4’s\\xa0large tailgate makes \\nloading and unloading the 470-litre luggage compartment particularly convenient. In addition, the functional rear bench seat folds down to provide maximum storage space and flexibility with a boot capacity of 1290 litres.\\nThe availability of some equipment, functions, and digital services depends on engine \\nvariants or additional optional equipment. The offer structure as well as market and \\nproduction availability may vary. For detailed information on availability, terms and costs, \\nplease contact your nearest BMW Authorised Dealership.', metadata={'id': 'doc:chatbot:8de67053f6a74f4db4df21b0d95b5f61', 'source': 'pdfs/The BMW i4 - Brochure.pdf', 'page': '7'})]\"\n",
      "\u001b[32;1m\u001b[1;3m[chain/start]\u001b[0m \u001b[1m[1:chain:AgentExecutor > 6:chain:LLMChain] Entering Chain run with input:\n",
      "\u001b[0m[inputs]\n",
      "\u001b[32;1m\u001b[1;3m[llm/start]\u001b[0m \u001b[1m[1:chain:AgentExecutor > 6:chain:LLMChain > 7:llm:ChatOpenAI] Entering LLM run with input:\n",
      "\u001b[0m{\n",
      "  \"prompts\": [\n",
      "    \"System: Assistant is a large language model trained by OpenAI.\\n\\nAssistant is designed to be able to assist with a wide range of tasks, from answering simple questions to providing in-depth explanations and discussions on a wide range of topics. As a language model, Assistant is able to generate human-like text based on the input it receives, allowing it to engage in natural-sounding conversations and provide responses that are coherent and relevant to the topic at hand.\\n\\nAssistant is constantly learning and improving, and its capabilities are constantly evolving. It is able to process and understand large amounts of text, and can use this knowledge to provide accurate and informative responses to a wide range of questions. Additionally, Assistant is able to generate its own text based on the input it receives, allowing it to engage in discussions and provide explanations and descriptions on a wide range of topics.\\n\\nOverall, Assistant is a powerful system that can help with a wide range of tasks and provide valuable insights and information on a wide range of topics. Whether you need help with a specific question or just want to have a conversation about a particular topic, Assistant is here to assist.\\nHuman: How much does it cost?\\nAI: I'm sorry, but the documents provided do not specify the cost of the BMW i4. For detailed information on availability, terms, and costs, it is recommended to contact your nearest BMW Authorized Dealership.\\nHuman: TOOLS\\n------\\nAssistant can ask the user to use tools to look up information that may be helpful in answering the users original question. The tools the human can use are:\\n\\n> search_bmw_i4: Searches and returns snippets from the BMW i4 brochure.\\n\\nRESPONSE FORMAT INSTRUCTIONS\\n----------------------------\\n\\nWhen responding to me, please output a response in one of two formats:\\n\\n**Option 1:**\\nUse this if you want the human to use a tool.\\nMarkdown code snippet formatted in the following schema:\\n\\n```json\\n{\\n    \\\"action\\\": string, \\\\\\\\ The action to take. Must be one of search_bmw_i4\\n    \\\"action_input\\\": string \\\\\\\\ The input to the action\\n}\\n```\\n\\n**Option #2:**\\nUse this if you want to respond directly to the human. Markdown code snippet formatted in the following schema:\\n\\n```json\\n{\\n    \\\"action\\\": \\\"Final Answer\\\",\\n    \\\"action_input\\\": string \\\\\\\\ You should put what you want to return to use here\\n}\\n```\\n\\nUSER'S INPUT\\n--------------------\\nHere is the user's input (remember to respond with a markdown code snippet of a json blob with a single action, and NOTHING else):\\n\\nHow fast is it?\\nAI: ```json\\n{\\n    \\\"action\\\": \\\"search_bmw_i4\\\",\\n    \\\"action_input\\\": \\\"BMW i4 speed\\\"\\n}\\n```\\nHuman: TOOL RESPONSE: \\n---------------------\\n[Document(page_content='TECHNICAL VALUES.\\\\nBMW i4 i4 eDrive40\\\\nLuggage capacity l 470–1290\\\\nOutput and torque\\\\n▸ System output kW (hp) 250 (340)\\\\n▸ System torque Nm 430\\\\nLithium-ion high-voltage battery\\\\nGross  battery capacity kWh 83.9\\\\nChar\\\\nging time (AC 0–100 %)2h 8.25\\\\nCharging time (DC 10–80%)2min 31\\\\nPower transmissionT ype of drive – Rear-wheel\\\\nPerformanceT op speed km/h 190\\\\nAcceleration 0–100 km/h (xDrive) s 5.7\\\\nConsumption and range\\\\n3, 5\\\\n▸ Power consumption, combined4kWh/100 km 19.1–16.1\\\\n▸ Electric range km Upto 590 km\\\\nWheels/tyres\\\\nStandard wheels _Front: 225/55 R17  \\\\n101 Y XL\\\\nRear: 225/55 R17  \\\\n101 Y XLTECHNICAL VALUES.\\\\nThe dimensions in the technical drawing are in millimetres and may vary depending on the model and optional equipment.1630\\\\n20731601\\\\n1852\\\\n1448\\\\n1015944\\\\n862 2856 1065\\\\n47831470\\\\n1445\\\\n1   The figures quoted are based on a driver weight of 75 kg. Unladen weight applies to vehicles with standard equipment. Optional equipment may affect the weight of the vehicle, the \\\\npayload and the top speed if the equipment has an impact on the vehicle’s aerodynamics.\\\\n2 Dependent on the local electricity infrastructure. AC charging time refers to a charging power of 11 kW; DC charging time refers to a charging power of 200 kW.\\\\n3  Official data for power consumption and electric range was determined in accordance with the prescribed measuring procedure and corresponds to European Regulation (EU) 715/2007 in the applicable version. For ranges, data determined as per WL TP takes into account any optional equipment (available on the German market in this case). For vehicles that have been newly type approved since 1 January 2021, only the official data according to WL TP exists. For more information about NEDC and WL TP measuring procedures visit www.bmw.com/wltp\\\\n4 The combined power consumption depends on the selected wheel and tyre sizes\\\\n5  As of 1 September 2017, the type approval for certain new vehicles is granted according to the Worldwide harmonised Light vehicles T est Procedure (WL TP), a new, more realistic test procedure to measure the fuel consumption and carbon dioxide emissions. As of 1 September 2018, the WL TP replaced the New European Driving Cycle (NEDC), the previous test procedure. As a result of the more realistic test conditions, the fuel consumption and CO2 emission values measured as per WL TP are, in many cases, higher than the values measured according to the NEDC.\\\\n6 Range depends on various factors, in particular: individual driving style, route characteristics, outside temperature, heating/air conditioning, pre-conditioning.', metadata={'id': 'doc:chatbot:8566a988f04941a79ac0608cb8dc559c', 'source': 'pdfs/The BMW i4 - Brochure.pdf', 'page': '24'}), Document(page_content='■ The combination of the rear wheel drive and the BMW eDrive engine give the  \\\\nfirst-ever fully-electric BMW i4 an outstanding sporty feel. Thanks to its rear axle air suspension, it also ensures maximum comfort, so\\\\xa0that\\\\xa0even longer trips become a pleasure.\\\\n■ The BMW i4 confidently sets new standards, even off \\\\nthe racing track – and thanks to its particularly short charging times, a roomy luggage compartment and the comfortable space it offers for four passengers, it is the ideal partner for any daily routine.Thanks to its unique combination of powerful lithium-ion high-voltage battery and specific suspension kinematics, the new BMW i4 will help you experience driving pleasure\\\\xa0as you’ve never seen it before. Excitingly dynamic, comfortable and powerful in\\\\xa0equal measure, the first-ever fully-electric BMW i4 exceeds all expectations – every day, every trip.\\\\xa0SHEER DRIVING PLEASURE: UNLIMITED.\\\\nThe availability of some equipment, functions, and digital services depends on engine \\\\nvariants or additional optional equipment. The offer structure as well as market and production availability may vary. For detailed information on availability, terms and costs, \\\\nplease contact your nearest BMW Authorised Dealership.', metadata={'id': 'doc:chatbot:2be7e0115c6e452fb4f843d3827cf765', 'source': 'pdfs/The BMW i4 - Brochure.pdf', 'page': '10'}), Document(page_content='SPORT\\\\nPure emotions that electrify: Dynamic and expressive, the  \\\\nfirst-ever fully-electric BMW i4 shows what it means to combine its sporty character and a next-generation electric drive. At the same time, it captivates with its clear surface language and precise, modern appearance, even at first glance.MODEL VARIANTS AT A GLANCE.\\\\n■ The black Sport leather steering \\\\nwheel with four spokes features a\\\\xa0Pearl Chrome decorative trim. A\\\\xa0thick rim and contoured thumb rests provide an exceptionally pleasant, high-grip feel.■ The Sport seats for driver and \\\\nfront passenger provide optimum lateral support with their raised side bolsters and manually adjustable thigh support. In addition, the seat’s fore-and-aft position and height can\\\\xa0be adjusted manually.HIGHLIGHT EXTERIOR EQUIPMENT FEATURES:\\\\n ■LED headlights\\\\n ■Rear lights with LED technology\\\\n ■Recuperation system\\\\nHIGHLIGHT INTERIOR EQUIPMENT FEATURES:\\\\n ■BMW Live Cockpit Plus\\\\n ■Sport leather steering wheel\\\\n ■Automatic air conditioning with 3-zone control\\\\n ■Harman Kardons Surround Sound System\\\\n ■Steptronic transmission\\\\n ■Sport seats for driver and front passenger\\\\n ■Perforated sensatec upholstery\\\\n ■Fine wood trim oak grain open pore\\\\n ■Floor mats in velour\\\\n ■Instrument panel in Sensatec\\\\nThe availability of some equipment, functions, and digital services depends on engine \\\\nvariants or additional optional equipment. The offer structure as well as market and \\\\nproduction availability may vary. For detailed information on availability, terms and costs, \\\\nplease contact your nearest BMW Authorised Dealership.', metadata={'id': 'doc:chatbot:3e70be5c93594c7384125df0b99cf09e', 'source': 'pdfs/The BMW i4 - Brochure.pdf', 'page': '15'}), Document(page_content='MODELSHIGHLIGHTS  \\\\nJOURNEY EQUIPMENTTECHNICAL VALUES AND SERVICES\\\\nEquipment\\\\nExterior colour world Interior colour worldM Aerodynamic KitWheels and tyresOriginal BMW AccessoriesT echnical valuesBMW Services Highlights  \\\\n• Exterior and interior design • Driving dynamics • Charging • Connectivity and infotainment • Assistance systems \\\\nCONTENTSBMW i4 eDrive40: \\\\n19\\\" aerodynamic wheels 855 bicolour with mixed tyres, exterior colour in Mineral White metallic, sport seats in \\\\'Vernasca\\\\' leather Oyster decorative stitching| Black, interior trim finisher in fine-wood trim Oak grain open-pored with Pearl Chrome accent strip.THE FIRST -EVER FULL Y-ELECTRIC BMW i4\\\\nDISCOVER MORE.\\\\nScan the code to get more information \\\\nand more driving pleasure on the first-ever fully-electric  BMW i4.', metadata={'id': 'doc:chatbot:bb1ea93dbf38475e9cef5b2589e1043b', 'source': 'pdfs/The BMW i4 - Brochure.pdf', 'page': '1'}), Document(page_content='■ The best seats in the front row: the \\\\ncomfortable embrace of the sport seats in\\\\xa0perforated sensatec upholstery is given an\\\\xa0especially elegant boost by their high-quality stitching.\\\\n■ T otal comfort, even in the back seats: up \\\\nto\\\\xa0three passengers can enjoy an exclusive travel experience with generous head and\\\\xa0leg room amid an inviting, brightly-lit atmosphere in the new BMW i4.\\\\n■ The new BMW i4’s\\\\xa0large tailgate makes \\\\nloading and unloading the 470-litre luggage compartment particularly convenient. In addition, the functional rear bench seat folds down to provide maximum storage space and flexibility with a boot capacity of 1290 litres.\\\\nThe availability of some equipment, functions, and digital services depends on engine \\\\nvariants or additional optional equipment. The offer structure as well as market and \\\\nproduction availability may vary. For detailed information on availability, terms and costs, \\\\nplease contact your nearest BMW Authorised Dealership.', metadata={'id': 'doc:chatbot:8de67053f6a74f4db4df21b0d95b5f61', 'source': 'pdfs/The BMW i4 - Brochure.pdf', 'page': '7'})]\\n\\nUSER'S INPUT\\n--------------------\\n\\nOkay, so what is the response to my last comment? If using information obtained from the tools you must mention it explicitly without mentioning the tool names - I have forgotten all TOOL RESPONSES! Remember to respond with a markdown code snippet of a json blob with a single action, and NOTHING else.\"\n",
      "  ]\n",
      "}\n",
      "\u001b[36;1m\u001b[1;3m[llm/end]\u001b[0m \u001b[1m[1:chain:AgentExecutor > 6:chain:LLMChain > 7:llm:ChatOpenAI] [2.90s] Exiting LLM run with output:\n",
      "\u001b[0m{\n",
      "  \"generations\": [\n",
      "    [\n",
      "      {\n",
      "        \"text\": \"```json\\n{\\n    \\\"action\\\": \\\"Final Answer\\\",\\n    \\\"action_input\\\": \\\"The BMW i4 has a top speed of 190 km/h.\\\"\\n}\\n```\",\n",
      "        \"generation_info\": {\n",
      "          \"finish_reason\": \"stop\"\n",
      "        },\n",
      "        \"type\": \"ChatGeneration\",\n",
      "        \"message\": {\n",
      "          \"lc\": 1,\n",
      "          \"type\": \"constructor\",\n",
      "          \"id\": [\n",
      "            \"langchain\",\n",
      "            \"schema\",\n",
      "            \"messages\",\n",
      "            \"AIMessage\"\n",
      "          ],\n",
      "          \"kwargs\": {\n",
      "            \"content\": \"```json\\n{\\n    \\\"action\\\": \\\"Final Answer\\\",\\n    \\\"action_input\\\": \\\"The BMW i4 has a top speed of 190 km/h.\\\"\\n}\\n```\",\n",
      "            \"additional_kwargs\": {},\n",
      "            \"example\": false\n",
      "          }\n",
      "        }\n",
      "      }\n",
      "    ]\n",
      "  ],\n",
      "  \"llm_output\": null,\n",
      "  \"run\": null\n",
      "}\n",
      "\u001b[36;1m\u001b[1;3m[chain/end]\u001b[0m \u001b[1m[1:chain:AgentExecutor > 6:chain:LLMChain] [2.90s] Exiting Chain run with output:\n",
      "\u001b[0m{\n",
      "  \"text\": \"```json\\n{\\n    \\\"action\\\": \\\"Final Answer\\\",\\n    \\\"action_input\\\": \\\"The BMW i4 has a top speed of 190 km/h.\\\"\\n}\\n```\"\n",
      "}\n",
      "\u001b[36;1m\u001b[1;3m[chain/end]\u001b[0m \u001b[1m[1:chain:AgentExecutor] [6.78s] Exiting Chain run with output:\n",
      "\u001b[0m{\n",
      "  \"output\": \"The BMW i4 has a top speed of 190 km/h.\"\n",
      "}\n",
      "Full Response Time (secs) 6.802503824234009\n"
     ]
    }
   ],
   "source": [
    "from langchain.globals import set_verbose\n",
    "set_verbose(True)\n",
    "\n",
    "use_cache = False\n",
    "\n",
    "def response(query):\n",
    "    return generate_response(use_cache, llmcache, query, agent)\n",
    "\n",
    "with gr.Blocks() as demo:\n",
    "    gr.Markdown(\"Start typing below and then click **Submit** to see the response.\")\n",
    "    with gr.Row():\n",
    "        inp = gr.Textbox(label=\"Prompt\", placeholder=\"Ask me anything about the BMW i4!\")\n",
    "        out = gr.Textbox(label=\"LLM Response\")\n",
    "    btn = gr.Button(\"Submit\")\n",
    "    clear = gr.ClearButton([inp, out])\n",
    "    btn.click(fn=response, inputs=inp, outputs=out)\n",
    "\n",
    "demo.launch(show_api=False, share=False)"
   ]
  },
  {
   "cell_type": "code",
   "execution_count": null,
   "id": "7f8ab17a-64c2-4be9-b4ea-9a0a74ca0761",
   "metadata": {},
   "outputs": [],
   "source": []
  }
 ],
 "metadata": {
  "kernelspec": {
   "display_name": "Python 3 (ipykernel)",
   "language": "python",
   "name": "python3"
  },
  "language_info": {
   "codemirror_mode": {
    "name": "ipython",
    "version": 3
   },
   "file_extension": ".py",
   "mimetype": "text/x-python",
   "name": "python",
   "nbconvert_exporter": "python",
   "pygments_lexer": "ipython3",
   "version": "3.11.5"
  }
 },
 "nbformat": 4,
 "nbformat_minor": 5
}
